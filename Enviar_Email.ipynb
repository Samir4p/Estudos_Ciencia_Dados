{
  "nbformat": 4,
  "nbformat_minor": 0,
  "metadata": {
    "colab": {
      "name": "Enviar_Email.ipynb",
      "provenance": [],
      "collapsed_sections": [],
      "authorship_tag": "ABX9TyPx4mCzV1gWw/U2NwWjp49l",
      "include_colab_link": true
    },
    "kernelspec": {
      "name": "python3",
      "display_name": "Python 3"
    },
    "language_info": {
      "name": "python"
    }
  },
  "cells": [
    {
      "cell_type": "markdown",
      "metadata": {
        "id": "view-in-github",
        "colab_type": "text"
      },
      "source": [
        "<a href=\"https://colab.research.google.com/github/Samir4p/Estudos_Ciencia_Dados/blob/main/Enviar_Email.ipynb\" target=\"_parent\"><img src=\"https://colab.research.google.com/assets/colab-badge.svg\" alt=\"Open In Colab\"/></a>"
      ]
    },
    {
      "cell_type": "code",
      "metadata": {
        "id": "9iuK2xbqJaT4"
      },
      "source": [
        "import json\n",
        "from email.mime.multipart import MIMEMultipart\n",
        "from email.mime.text import  MIMEText\n",
        "import smtplib"
      ],
      "execution_count": 6,
      "outputs": []
    },
    {
      "cell_type": "code",
      "metadata": {
        "id": "LBfXFp8XNsJs"
      },
      "source": [
        "#Corpo da mensagem do email\n",
        "\n",
        "msg = MIMEMultipart()\n",
        "message = \"Você recebeu um email da Start4p :)\"\n",
        "\n",
        "password = \"xxxxxxxxxx\"     ####Senha do email que vai enviar a msg\n",
        "msg['From'] = \"xxxxxxxxp@xxxx\"    ###Endereço email que vai enviar\n",
        "msg['To'] = \"xxxxxxxxxxxxxxx\"    ###Email que ira receber \n",
        "msg['Subject'] = \"Enviando gmail com Python\"  ###Assunto do email\n"
      ],
      "execution_count": 4,
      "outputs": []
    },
    {
      "cell_type": "code",
      "metadata": {
        "id": "Uzf3k6m4J2Hu"
      },
      "source": [
        "#Monta conexao envia email \n",
        "\n",
        "msg.attach(MIMEText(message, 'plain'))\n",
        "server = smtplib.SMTP('smtp.gmail.com', port=587)\n",
        "server.starttls()\n",
        "server.login(msg['From'], password)\n",
        "server.sendmail(msg['From'], msg['To'], msg.as_string())\n",
        "server.quit()"
      ],
      "execution_count": 8,
      "outputs": []
    }
  ]
}